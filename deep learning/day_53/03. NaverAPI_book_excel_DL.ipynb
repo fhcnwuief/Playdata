{
 "cells": [
  {
   "cell_type": "markdown",
   "metadata": {},
   "source": [
    "## 네이버 검색 API 사용해보기"
   ]
  },
  {
   "cell_type": "code",
   "execution_count": 1,
   "metadata": {},
   "outputs": [],
   "source": [
    "# urllib.request 모듈은 주어진 url을 이용해 웹에서 데이터를 얻어옴\n",
    "import urllib.request\n",
    "def create_url(api_node, search_text, start_num, disp_num):\n",
    "    base = \"https://openapi.naver.com/v1/search\"\n",
    "    node = \"/\" + api_node + \".json\"\n",
    "    param_query = \"?query=\" + urllib.parse.quote(search_text)\n",
    "    param_start = \"&start=\" + str(start_num)\n",
    "    param_disp = \"&display=\" + str(disp_num)\n",
    "\n",
    "    return base + node + param_query + param_start + param_disp"
   ]
  },
  {
   "cell_type": "code",
   "execution_count": 2,
   "metadata": {},
   "outputs": [
    {
     "data": {
      "text/plain": [
       "{'lastBuildDate': 'Fri, 18 Aug 2023 12:15:53 +0900',\n",
       " 'total': 908,\n",
       " 'start': 1,\n",
       " 'display': 3,\n",
       " 'items': [{'title': 'Do it! 점프 투 파이썬 (중학생도 첫날부터 실습하는 초고속 입문서)',\n",
       "   'link': 'https://search.shopping.naver.com/book/catalog/40354085633',\n",
       "   'image': 'https://shopping-phinf.pstatic.net/main_4035408/40354085633.20230725120555.jpg',\n",
       "   'author': '박응용',\n",
       "   'discount': '19010',\n",
       "   'publisher': '이지스퍼블리싱',\n",
       "   'pubdate': '20230615',\n",
       "   'isbn': '9791163034735',\n",
       "   'description': '프로그래밍 분야 8년 연속 베스트셀러!\\n《Do it! 점프 투 파이썬》 전면 개정 2판 출시!\\n\\n중고등학생도, 비전공자도, 직장인도 프로그래밍에 눈뜨게 만든 바로 그 책이 전면 개정 2판으로 새롭게 태어났다! 챗GPT를 시작으로 펼쳐진 생성 AI 시대에 맞춰 설명과 예제를 다듬고, 최신 경향과 심화 내용을 보충했다. 또한 이번 개정 2판도 50만 코딩 유튜버인 조코딩과 협업을 통해 유튜브 동영상을 제공해 파이썬을 더 쉽게 공부할 수 있다.\\n\\n8년 연속 베스트셀러! 위키독스 누적 방문 300만! 독자의 입에서 입으로 전해진 추천과 수많은 대학 및 학원의 교재 채택을 통해 검증은 이미 끝났다. 코딩을 처음 배우는 중고등학생부터 코딩 소양을 기르려는 비전공자, 자기계발에 진심인 직장인까지! 이 책과 함께 파이썬 프로그래밍의 세계로 ‘점프’해 보자!'},\n",
       "  {'title': '파이썬의 정석',\n",
       "   'link': 'https://search.shopping.naver.com/book/catalog/36925491630',\n",
       "   'image': 'https://shopping-phinf.pstatic.net/main_3692549/36925491630.20230321164704.jpg',\n",
       "   'author': '조용주^임좌상',\n",
       "   'discount': '26820',\n",
       "   'publisher': '길벗캠퍼스',\n",
       "   'pubdate': '20230110',\n",
       "   'isbn': '9791140702671',\n",
       "   'description': '프로그래밍 입문자를 위한 파이썬의 입문 가이드\\n\\n4차 산업혁명의 핵심인 머신러닝, 사물 인터넷(IoT), 데이터 분석 등 다양한 분야에 활용되는\\n직관적이고 간결한 문법의 파이썬 프로그래밍 언어를 최신 트렌드에 맞게 예제 중심으로 학습\\n할 수 있습니다.\\n무엇보다 프로그래밍을 처음 접하는 학생과 파이썬 초보자를 위한 파이썬 입문용 교육교재이\\n기 때문에 프로그래밍 언어 가운데 가장 쉽고 강력한 파이썬의 기초 내용부터 변수, 반복문,\\n자료구조, 객체 지향 프로그램의 탄탄한 활용까지 장별로 강화된 연습문제와 실무 프로젝트\\n등 규모 있는 프로그램으로 실력을 향상시킬 수 있습니다.\\n이 책의 장점, 3가지 요약\\n코딩의 개념을 깨우치고 데이터 분석 및 웹 개발의 시작을 위한\\n파이썬 프로그래밍의 완벽 가이드\\n코딩을 한번도 접해보지 못한 학생도 기초부터 심화 단계까지\\n파이썬 프로그래밍의 문법을 집중적으로 배울 수 있다!\\n방금 배운 내용의 결과물을 바로 확인할 수 있는 문제해결을 위한\\n프로젝트성 실습문제 43개와 다양한 상황을 제시하여 응용 능력을 높여주는 279개 연습문제'},\n",
       "  {'title': '디딤돌 파이썬 (구조적 프로그래밍으로 설명한 파이썬 기초)',\n",
       "   'link': 'https://search.shopping.naver.com/book/catalog/34233217628',\n",
       "   'image': 'https://shopping-phinf.pstatic.net/main_3423321/34233217628.20221019114545.jpg',\n",
       "   'author': '이찬수',\n",
       "   'discount': '26100',\n",
       "   'publisher': '인피니티북스',\n",
       "   'pubdate': '20220823',\n",
       "   'isbn': '9791192373058',\n",
       "   'description': '이 책은 파이썬의 고유한 문법이나 그에 대한 활용보다는, 파이썬 언어를 기반으로 한 컴퓨터 프로그래밍과 문제해결에 비중을 두고 있다. 이를 위해 일반적인 파이썬 학습 순서와는 달리 첫 시작부터 ‘사용자 정의 함수’를 중심으로 서술한다.\\n다양한 예제를 통해 문제의 요구사항을 의사코드로 설계하고, 이를 실제로 구현해볼 수 있다. 이 과정에서 복잡한 문제를 좀 더 다루기 쉽도록 작은 규모로 분해하고, 함수로 구조화하여 문제를 해결한다. 또한 앞에서 다룬 코드에 기능을 추가하거나 수정하여 프로그램을 점차 확장시킨다. 이러한 학습 과정으로 어떤 새롭고 복잡한 문제를 만나더라도 스스로 해결할 수 있는 능력을 갖출 수 있을 것이다.\\n\\n이 책의 구성\\n- 1장: 컴퓨터 시스템의 기본 특징을 통해 프로그래밍에 대한 개념을 소개한다. \\n- 2장: 파이썬 소스코드에 나타나는 주석과 문장, 리터럴 그리고 함수에 대해 소개한다. \\n- 3장: 변수에 대한 개념과 입력문을 통해 데이터를 입력 받는 방법에 대해 알아본다. \\n- 4장: 하나의 연산 표현식을 이루는 기본 연산자 중 부호, 산술, 대입, 비트, 축약 대입 연산자 그리고 연산자 우선순위와 결합규칙을 소개함으로써 기본적인 연산을 처리하는 프로그램을 작성할 수 있도록 한다.\\n- 5장: 지역변수와 전역변수의 차이를 기반으로 함수 호출 메커니즘에 대한 온전한 이해를 도모한다.\\n- 6장: 문자열을 표현하는 다양한 방법과 문자열에서 제공되는 기본 메서드에 대해 소개한다. \\n- 7장: 비교 연산자와 논리 연산자를 기반으로 조건평가식을 구성하고, 이를 조건문에 적용해 본다.\\n- 8장: 프로그램에서의 반복 루프를 효율적으로 기술하기 위해 while 문과 for 문에 대해 다룬다.\\n- 9장: 복합 자료형 중 리스트와 튜플, 딕셔너리에 대해 다룬다.\\n- 10장: 복합 자료형의 데이터를 반복문과 같이 좀 더 효율적으로 사용하는 방법에 대해 다룬다.\\n- 11장: 객체지향 프로그래밍에 대한 기본 개념들을 다룬다.\\n- 12장: 데이터 파일에 대한 개념과 더불어 데이터 파일에 입출력하는 방법에 대해 다룬다.\\n- 13장: tkinter 모듈을 인용해 GUI 프로그램을 작성하는 방법에 대해 소개한다.'}]}"
      ]
     },
     "execution_count": 2,
     "metadata": {},
     "output_type": "execute_result"
    }
   ],
   "source": [
    "import urllib.request\n",
    "import json\n",
    "\n",
    "client_id = \"TOsOdffSQYSo9igAFZO7\"\n",
    "client_secret = \"hABZSaGDyq\"\n",
    "    \n",
    "url = create_url(\"book\", \"파이썬\", 1, 3)\n",
    "    \n",
    "request = urllib.request.Request(url)\n",
    "request.add_header(\"X-Naver-Client-Id\", client_id)\n",
    "request.add_header(\"X-Naver-Client-Secret\", client_secret)\n",
    "    \n",
    "response = urllib.request.urlopen(request)\n",
    "\n",
    "result = json.loads(response.read().decode('utf-8'))\n",
    "result"
   ]
  },
  {
   "cell_type": "code",
   "execution_count": 3,
   "metadata": {},
   "outputs": [
    {
     "data": {
      "text/plain": [
       "['Do it! 점프 투 파이썬 (중학생도 첫날부터 실습하는 초고속 입문서)',\n",
       " '파이썬의 정석',\n",
       " '디딤돌 파이썬 (구조적 프로그래밍으로 설명한 파이썬 기초)']"
      ]
     },
     "execution_count": 3,
     "metadata": {},
     "output_type": "execute_result"
    }
   ],
   "source": [
    "titles = authors = [result['items'][n]['title'] for n in range(3)]\n",
    "titles"
   ]
  },
  {
   "cell_type": "code",
   "execution_count": 4,
   "metadata": {},
   "outputs": [
    {
     "data": {
      "text/plain": [
       "['박응용', '조용주^임좌상', '이찬수']"
      ]
     },
     "execution_count": 4,
     "metadata": {},
     "output_type": "execute_result"
    }
   ],
   "source": [
    "authors = [result['items'][n]['author'] for n in range(3)]\n",
    "authors"
   ]
  },
  {
   "cell_type": "code",
   "execution_count": 5,
   "metadata": {},
   "outputs": [
    {
     "data": {
      "text/plain": [
       "['20230615', '20230110', '20220823']"
      ]
     },
     "execution_count": 5,
     "metadata": {},
     "output_type": "execute_result"
    }
   ],
   "source": [
    "pubdates = [result['items'][n]['pubdate'] for n in range(3)]\n",
    "pubdates"
   ]
  },
  {
   "cell_type": "code",
   "execution_count": 6,
   "metadata": {},
   "outputs": [
    {
     "data": {
      "text/html": [
       "<div>\n",
       "<style scoped>\n",
       "    .dataframe tbody tr th:only-of-type {\n",
       "        vertical-align: middle;\n",
       "    }\n",
       "\n",
       "    .dataframe tbody tr th {\n",
       "        vertical-align: top;\n",
       "    }\n",
       "\n",
       "    .dataframe thead th {\n",
       "        text-align: right;\n",
       "    }\n",
       "</style>\n",
       "<table border=\"1\" class=\"dataframe\">\n",
       "  <thead>\n",
       "    <tr style=\"text-align: right;\">\n",
       "      <th></th>\n",
       "      <th>책제목</th>\n",
       "      <th>작가</th>\n",
       "      <th>출판일</th>\n",
       "    </tr>\n",
       "  </thead>\n",
       "  <tbody>\n",
       "    <tr>\n",
       "      <th>0</th>\n",
       "      <td>Do it! 점프 투 파이썬 (중학생도 첫날부터 실습하는 초고속 입문서)</td>\n",
       "      <td>박응용</td>\n",
       "      <td>20230615</td>\n",
       "    </tr>\n",
       "    <tr>\n",
       "      <th>1</th>\n",
       "      <td>파이썬의 정석</td>\n",
       "      <td>조용주^임좌상</td>\n",
       "      <td>20230110</td>\n",
       "    </tr>\n",
       "    <tr>\n",
       "      <th>2</th>\n",
       "      <td>디딤돌 파이썬 (구조적 프로그래밍으로 설명한 파이썬 기초)</td>\n",
       "      <td>이찬수</td>\n",
       "      <td>20220823</td>\n",
       "    </tr>\n",
       "  </tbody>\n",
       "</table>\n",
       "</div>"
      ],
      "text/plain": [
       "                                        책제목       작가       출판일\n",
       "0  Do it! 점프 투 파이썬 (중학생도 첫날부터 실습하는 초고속 입문서)      박응용  20230615\n",
       "1                                   파이썬의 정석  조용주^임좌상  20230110\n",
       "2          디딤돌 파이썬 (구조적 프로그래밍으로 설명한 파이썬 기초)      이찬수  20220823"
      ]
     },
     "execution_count": 6,
     "metadata": {},
     "output_type": "execute_result"
    }
   ],
   "source": [
    "import pandas as pd\n",
    "pd.DataFrame({'책제목':titles, '작가':authors, '출판일':pubdates})"
   ]
  },
  {
   "cell_type": "code",
   "execution_count": 7,
   "metadata": {},
   "outputs": [],
   "source": [
    "def get_dataframe(url):\n",
    "    client_id = \"TOsOdffSQYSo9igAFZO7\"\n",
    "    client_secret = \"hABZSaGDyq\"\n",
    "    \n",
    "    request = urllib.request.Request(url)\n",
    "    request.add_header(\"X-Naver-Client-Id\", client_id)\n",
    "    request.add_header(\"X-Naver-Client-Secret\", client_secret)\n",
    "    \n",
    "    response = urllib.request.urlopen(request)\n",
    "\n",
    "    result = json.loads(response.read().decode('utf-8'))\n",
    "    \n",
    "    end_num = result['display']\n",
    "    \n",
    "    titles = [result['items'][n]['title'] for n in range(end_num)]\n",
    "    authors = [result['items'][n]['author'] for n in range(end_num)]\n",
    "    pubdates = [result['items'][n]['pubdate'] for n in range(end_num)]\n",
    "    \n",
    "    return pd.DataFrame({'책제목':titles, '작가':authors, '출판일':pubdates})"
   ]
  },
  {
   "cell_type": "code",
   "execution_count": 8,
   "metadata": {},
   "outputs": [
    {
     "data": {
      "text/html": [
       "<div>\n",
       "<style scoped>\n",
       "    .dataframe tbody tr th:only-of-type {\n",
       "        vertical-align: middle;\n",
       "    }\n",
       "\n",
       "    .dataframe tbody tr th {\n",
       "        vertical-align: top;\n",
       "    }\n",
       "\n",
       "    .dataframe thead th {\n",
       "        text-align: right;\n",
       "    }\n",
       "</style>\n",
       "<table border=\"1\" class=\"dataframe\">\n",
       "  <thead>\n",
       "    <tr style=\"text-align: right;\">\n",
       "      <th></th>\n",
       "      <th>책제목</th>\n",
       "      <th>작가</th>\n",
       "      <th>출판일</th>\n",
       "    </tr>\n",
       "  </thead>\n",
       "  <tbody>\n",
       "    <tr>\n",
       "      <th>0</th>\n",
       "      <td>Do it! 점프 투 파이썬 (중학생도 첫날부터 실습하는 초고속 입문서)</td>\n",
       "      <td>박응용</td>\n",
       "      <td>20230615</td>\n",
       "    </tr>\n",
       "    <tr>\n",
       "      <th>1</th>\n",
       "      <td>파이썬의 정석</td>\n",
       "      <td>조용주^임좌상</td>\n",
       "      <td>20230110</td>\n",
       "    </tr>\n",
       "    <tr>\n",
       "      <th>2</th>\n",
       "      <td>디딤돌 파이썬 (구조적 프로그래밍으로 설명한 파이썬 기초)</td>\n",
       "      <td>이찬수</td>\n",
       "      <td>20220823</td>\n",
       "    </tr>\n",
       "  </tbody>\n",
       "</table>\n",
       "</div>"
      ],
      "text/plain": [
       "                                        책제목       작가       출판일\n",
       "0  Do it! 점프 투 파이썬 (중학생도 첫날부터 실습하는 초고속 입문서)      박응용  20230615\n",
       "1                                   파이썬의 정석  조용주^임좌상  20230110\n",
       "2          디딤돌 파이썬 (구조적 프로그래밍으로 설명한 파이썬 기초)      이찬수  20220823"
      ]
     },
     "execution_count": 8,
     "metadata": {},
     "output_type": "execute_result"
    }
   ],
   "source": [
    "get_dataframe(url)"
   ]
  },
  {
   "cell_type": "code",
   "execution_count": 9,
   "metadata": {},
   "outputs": [],
   "source": [
    "def delete_tag(input_str):\n",
    "    input_str = input_str.replace(\"<b>\", \"\")\n",
    "    input_str = input_str.replace(\"</b>\", \"\")\n",
    "    return input_str"
   ]
  },
  {
   "cell_type": "code",
   "execution_count": 10,
   "metadata": {},
   "outputs": [],
   "source": [
    "def get_dataframe(url):\n",
    "    client_id = \"TOsOdffSQYSo9igAFZO7\"\n",
    "    client_secret = \"hABZSaGDyq\"\n",
    "    \n",
    "    request = urllib.request.Request(url)\n",
    "    request.add_header(\"X-Naver-Client-Id\", client_id)\n",
    "    request.add_header(\"X-Naver-Client-Secret\", client_secret)\n",
    "    \n",
    "    response = urllib.request.urlopen(request)\n",
    "\n",
    "    result = json.loads(response.read().decode('utf-8'))\n",
    "    \n",
    "    end_num = result['display']\n",
    "    \n",
    "    titles = [delete_tag(result['items'][n]['title']) for n in range(end_num)]\n",
    "    authors = [result['items'][n]['author'] for n in range(end_num)]\n",
    "    pubdates = [result['items'][n]['pubdate'] for n in range(end_num)]\n",
    "\n",
    "    return pd.DataFrame({'책제목':titles, '작가':authors, '출판일':pubdates})"
   ]
  },
  {
   "cell_type": "code",
   "execution_count": 11,
   "metadata": {},
   "outputs": [
    {
     "data": {
      "text/html": [
       "<div>\n",
       "<style scoped>\n",
       "    .dataframe tbody tr th:only-of-type {\n",
       "        vertical-align: middle;\n",
       "    }\n",
       "\n",
       "    .dataframe tbody tr th {\n",
       "        vertical-align: top;\n",
       "    }\n",
       "\n",
       "    .dataframe thead th {\n",
       "        text-align: right;\n",
       "    }\n",
       "</style>\n",
       "<table border=\"1\" class=\"dataframe\">\n",
       "  <thead>\n",
       "    <tr style=\"text-align: right;\">\n",
       "      <th></th>\n",
       "      <th>책제목</th>\n",
       "      <th>작가</th>\n",
       "      <th>출판일</th>\n",
       "    </tr>\n",
       "  </thead>\n",
       "  <tbody>\n",
       "    <tr>\n",
       "      <th>0</th>\n",
       "      <td>Do it! 점프 투 파이썬 (중학생도 첫날부터 실습하는 초고속 입문서)</td>\n",
       "      <td>박응용</td>\n",
       "      <td>20230615</td>\n",
       "    </tr>\n",
       "    <tr>\n",
       "      <th>1</th>\n",
       "      <td>파이썬의 정석</td>\n",
       "      <td>조용주^임좌상</td>\n",
       "      <td>20230110</td>\n",
       "    </tr>\n",
       "    <tr>\n",
       "      <th>2</th>\n",
       "      <td>디딤돌 파이썬 (구조적 프로그래밍으로 설명한 파이썬 기초)</td>\n",
       "      <td>이찬수</td>\n",
       "      <td>20220823</td>\n",
       "    </tr>\n",
       "  </tbody>\n",
       "</table>\n",
       "</div>"
      ],
      "text/plain": [
       "                                        책제목       작가       출판일\n",
       "0  Do it! 점프 투 파이썬 (중학생도 첫날부터 실습하는 초고속 입문서)      박응용  20230615\n",
       "1                                   파이썬의 정석  조용주^임좌상  20230110\n",
       "2          디딤돌 파이썬 (구조적 프로그래밍으로 설명한 파이썬 기초)      이찬수  20220823"
      ]
     },
     "execution_count": 11,
     "metadata": {},
     "output_type": "execute_result"
    }
   ],
   "source": [
    "get_dataframe(url)"
   ]
  },
  {
   "cell_type": "code",
   "execution_count": 12,
   "metadata": {},
   "outputs": [],
   "source": [
    "result_search = []\n",
    "\n",
    "for n in range(1,400,100):\n",
    "    url = create_url(\"book\", \"파이썬\", n, 100)\n",
    "    result_search.append(get_dataframe(url))\n",
    "    \n",
    "result_search = pd.concat(result_search)"
   ]
  },
  {
   "cell_type": "code",
   "execution_count": 13,
   "metadata": {},
   "outputs": [
    {
     "data": {
      "text/html": [
       "<div>\n",
       "<style scoped>\n",
       "    .dataframe tbody tr th:only-of-type {\n",
       "        vertical-align: middle;\n",
       "    }\n",
       "\n",
       "    .dataframe tbody tr th {\n",
       "        vertical-align: top;\n",
       "    }\n",
       "\n",
       "    .dataframe thead th {\n",
       "        text-align: right;\n",
       "    }\n",
       "</style>\n",
       "<table border=\"1\" class=\"dataframe\">\n",
       "  <thead>\n",
       "    <tr style=\"text-align: right;\">\n",
       "      <th></th>\n",
       "      <th>책제목</th>\n",
       "      <th>작가</th>\n",
       "      <th>출판일</th>\n",
       "    </tr>\n",
       "  </thead>\n",
       "  <tbody>\n",
       "    <tr>\n",
       "      <th>0</th>\n",
       "      <td>Do it! 점프 투 파이썬 (중학생도 첫날부터 실습하는 초고속 입문서)</td>\n",
       "      <td>박응용</td>\n",
       "      <td>20230615</td>\n",
       "    </tr>\n",
       "    <tr>\n",
       "      <th>1</th>\n",
       "      <td>파이썬의 정석</td>\n",
       "      <td>조용주^임좌상</td>\n",
       "      <td>20230110</td>\n",
       "    </tr>\n",
       "    <tr>\n",
       "      <th>2</th>\n",
       "      <td>디딤돌 파이썬 (구조적 프로그래밍으로 설명한 파이썬 기초)</td>\n",
       "      <td>이찬수</td>\n",
       "      <td>20220823</td>\n",
       "    </tr>\n",
       "    <tr>\n",
       "      <th>3</th>\n",
       "      <td>혼자 공부하는 파이썬 (1:1 과외하듯 배우는 프로그래밍 자습서)</td>\n",
       "      <td>윤인성</td>\n",
       "      <td>20220601</td>\n",
       "    </tr>\n",
       "    <tr>\n",
       "      <th>4</th>\n",
       "      <td>파이썬 알고리즘 인터뷰 (95가지 알고리즘 문제 풀이로 완성하는 코딩 테스트)</td>\n",
       "      <td>박상길</td>\n",
       "      <td>20200715</td>\n",
       "    </tr>\n",
       "  </tbody>\n",
       "</table>\n",
       "</div>"
      ],
      "text/plain": [
       "                                           책제목       작가       출판일\n",
       "0     Do it! 점프 투 파이썬 (중학생도 첫날부터 실습하는 초고속 입문서)      박응용  20230615\n",
       "1                                      파이썬의 정석  조용주^임좌상  20230110\n",
       "2             디딤돌 파이썬 (구조적 프로그래밍으로 설명한 파이썬 기초)      이찬수  20220823\n",
       "3         혼자 공부하는 파이썬 (1:1 과외하듯 배우는 프로그래밍 자습서)      윤인성  20220601\n",
       "4  파이썬 알고리즘 인터뷰 (95가지 알고리즘 문제 풀이로 완성하는 코딩 테스트)      박상길  20200715"
      ]
     },
     "execution_count": 13,
     "metadata": {},
     "output_type": "execute_result"
    }
   ],
   "source": [
    "result_search.head()"
   ]
  },
  {
   "cell_type": "code",
   "execution_count": 14,
   "metadata": {},
   "outputs": [
    {
     "name": "stdout",
     "output_type": "stream",
     "text": [
      "<class 'pandas.core.frame.DataFrame'>\n",
      "Int64Index: 400 entries, 0 to 99\n",
      "Data columns (total 3 columns):\n",
      " #   Column  Non-Null Count  Dtype \n",
      "---  ------  --------------  ----- \n",
      " 0   책제목     400 non-null    object\n",
      " 1   작가      400 non-null    object\n",
      " 2   출판일     400 non-null    object\n",
      "dtypes: object(3)\n",
      "memory usage: 12.5+ KB\n"
     ]
    }
   ],
   "source": [
    "result_search.info()"
   ]
  },
  {
   "cell_type": "code",
   "execution_count": 15,
   "metadata": {},
   "outputs": [
    {
     "name": "stdout",
     "output_type": "stream",
     "text": [
      "<class 'pandas.core.frame.DataFrame'>\n",
      "RangeIndex: 400 entries, 0 to 399\n",
      "Data columns (total 3 columns):\n",
      " #   Column  Non-Null Count  Dtype \n",
      "---  ------  --------------  ----- \n",
      " 0   책제목     400 non-null    object\n",
      " 1   작가      400 non-null    object\n",
      " 2   출판일     400 non-null    object\n",
      "dtypes: object(3)\n",
      "memory usage: 9.5+ KB\n"
     ]
    }
   ],
   "source": [
    "result_search = result_search.reset_index(drop=True)\n",
    "result_search.info()"
   ]
  },
  {
   "cell_type": "markdown",
   "metadata": {},
   "source": [
    "## 엑셀에 저장하기"
   ]
  },
  {
   "cell_type": "code",
   "execution_count": 16,
   "metadata": {},
   "outputs": [
    {
     "name": "stderr",
     "output_type": "stream",
     "text": [
      "C:\\Users\\Playdata\\AppData\\Local\\Temp\\ipykernel_6016\\2130451343.py:16: FutureWarning: save is not part of the public API, usage can give unexpected results and will be removed in a future version\n",
      "  writer.save()\n"
     ]
    }
   ],
   "source": [
    "writer = pd.ExcelWriter(\"./data/DL_book_info2.xlsx\", engine='xlsxwriter')\n",
    "result_search.to_excel(writer, sheet_name='Sheet1')\n",
    "\n",
    "workbook  = writer.book\n",
    "worksheet = writer.sheets['Sheet1']\n",
    "\n",
    "format_center = workbook.add_format({'text_wrap': True})\n",
    "format_center.set_align('center')\n",
    "format_center.set_align('vcenter')\n",
    "\n",
    "worksheet.set_column('A:A', 5)\n",
    "worksheet.set_column('B:B', 90, format_center)\n",
    "worksheet.set_column('C:C', 40, format_center)\n",
    "worksheet.set_column('D:D', 15)\n",
    "\n",
    "writer.save()"
   ]
  },
  {
   "cell_type": "code",
   "execution_count": 17,
   "metadata": {},
   "outputs": [
    {
     "data": {
      "text/html": [
       "<div>\n",
       "<style scoped>\n",
       "    .dataframe tbody tr th:only-of-type {\n",
       "        vertical-align: middle;\n",
       "    }\n",
       "\n",
       "    .dataframe tbody tr th {\n",
       "        vertical-align: top;\n",
       "    }\n",
       "\n",
       "    .dataframe thead th {\n",
       "        text-align: right;\n",
       "    }\n",
       "</style>\n",
       "<table border=\"1\" class=\"dataframe\">\n",
       "  <thead>\n",
       "    <tr style=\"text-align: right;\">\n",
       "      <th></th>\n",
       "      <th>Unnamed: 0</th>\n",
       "      <th>책제목</th>\n",
       "      <th>작가</th>\n",
       "      <th>출판일</th>\n",
       "    </tr>\n",
       "  </thead>\n",
       "  <tbody>\n",
       "    <tr>\n",
       "      <th>0</th>\n",
       "      <td>0</td>\n",
       "      <td>Do it! 점프 투 파이썬 (중학생도 첫날부터 실습하는 초고속 입문서)</td>\n",
       "      <td>박응용</td>\n",
       "      <td>20230615</td>\n",
       "    </tr>\n",
       "    <tr>\n",
       "      <th>1</th>\n",
       "      <td>1</td>\n",
       "      <td>파이썬의 정석</td>\n",
       "      <td>조용주^임좌상</td>\n",
       "      <td>20230110</td>\n",
       "    </tr>\n",
       "    <tr>\n",
       "      <th>2</th>\n",
       "      <td>2</td>\n",
       "      <td>디딤돌 파이썬 (구조적 프로그래밍으로 설명한 파이썬 기초)</td>\n",
       "      <td>이찬수</td>\n",
       "      <td>20220823</td>\n",
       "    </tr>\n",
       "    <tr>\n",
       "      <th>3</th>\n",
       "      <td>3</td>\n",
       "      <td>혼자 공부하는 파이썬 (1:1 과외하듯 배우는 프로그래밍 자습서)</td>\n",
       "      <td>윤인성</td>\n",
       "      <td>20220601</td>\n",
       "    </tr>\n",
       "    <tr>\n",
       "      <th>4</th>\n",
       "      <td>4</td>\n",
       "      <td>파이썬 알고리즘 인터뷰 (95가지 알고리즘 문제 풀이로 완성하는 코딩 테스트)</td>\n",
       "      <td>박상길</td>\n",
       "      <td>20200715</td>\n",
       "    </tr>\n",
       "    <tr>\n",
       "      <th>...</th>\n",
       "      <td>...</td>\n",
       "      <td>...</td>\n",
       "      <td>...</td>\n",
       "      <td>...</td>\n",
       "    </tr>\n",
       "    <tr>\n",
       "      <th>395</th>\n",
       "      <td>395</td>\n",
       "      <td>챗GPT와 함께하는 파이썬 &amp; 머신러닝 코딩 마스터</td>\n",
       "      <td>김대우</td>\n",
       "      <td>20230704</td>\n",
       "    </tr>\n",
       "    <tr>\n",
       "      <th>396</th>\n",
       "      <td>396</td>\n",
       "      <td>엑셀 자동화 with 파이썬 (복잡하고 지루한 반복 업무를 쉽고 빠르게 해치우는 방법)</td>\n",
       "      <td>최은석</td>\n",
       "      <td>20201110</td>\n",
       "    </tr>\n",
       "    <tr>\n",
       "      <th>397</th>\n",
       "      <td>397</td>\n",
       "      <td>퀀트 전략 파이썬으로 세워라 (누구나 시작할 수 있는 파이썬 퀀트 투자 첫 단추)</td>\n",
       "      <td>박준규</td>\n",
       "      <td>20190430</td>\n",
       "    </tr>\n",
       "    <tr>\n",
       "      <th>398</th>\n",
       "      <td>398</td>\n",
       "      <td>파이썬으로 웹 크롤러 만들기 (초간단 나만의 웹 크롤러로 원하는 데이터를 가져오는 방법)</td>\n",
       "      <td>라이언 미첼</td>\n",
       "      <td>20190329</td>\n",
       "    </tr>\n",
       "    <tr>\n",
       "      <th>399</th>\n",
       "      <td>399</td>\n",
       "      <td>파이썬을 활용한 비지도 학습 (비구조 데이터로부터 숨겨진 패턴과 관계 찾기)</td>\n",
       "      <td>벤자민 존스턴^애런 존스^크리스토퍼 크루거</td>\n",
       "      <td>20191129</td>\n",
       "    </tr>\n",
       "  </tbody>\n",
       "</table>\n",
       "<p>400 rows × 4 columns</p>\n",
       "</div>"
      ],
      "text/plain": [
       "     Unnamed: 0                                                책제목  \\\n",
       "0             0           Do it! 점프 투 파이썬 (중학생도 첫날부터 실습하는 초고속 입문서)   \n",
       "1             1                                            파이썬의 정석   \n",
       "2             2                   디딤돌 파이썬 (구조적 프로그래밍으로 설명한 파이썬 기초)   \n",
       "3             3               혼자 공부하는 파이썬 (1:1 과외하듯 배우는 프로그래밍 자습서)   \n",
       "4             4        파이썬 알고리즘 인터뷰 (95가지 알고리즘 문제 풀이로 완성하는 코딩 테스트)   \n",
       "..          ...                                                ...   \n",
       "395         395                       챗GPT와 함께하는 파이썬 & 머신러닝 코딩 마스터   \n",
       "396         396   엑셀 자동화 with 파이썬 (복잡하고 지루한 반복 업무를 쉽고 빠르게 해치우는 방법)   \n",
       "397         397      퀀트 전략 파이썬으로 세워라 (누구나 시작할 수 있는 파이썬 퀀트 투자 첫 단추)   \n",
       "398         398  파이썬으로 웹 크롤러 만들기 (초간단 나만의 웹 크롤러로 원하는 데이터를 가져오는 방법)   \n",
       "399         399         파이썬을 활용한 비지도 학습 (비구조 데이터로부터 숨겨진 패턴과 관계 찾기)   \n",
       "\n",
       "                          작가       출판일  \n",
       "0                        박응용  20230615  \n",
       "1                    조용주^임좌상  20230110  \n",
       "2                        이찬수  20220823  \n",
       "3                        윤인성  20220601  \n",
       "4                        박상길  20200715  \n",
       "..                       ...       ...  \n",
       "395                      김대우  20230704  \n",
       "396                      최은석  20201110  \n",
       "397                      박준규  20190430  \n",
       "398                   라이언 미첼  20190329  \n",
       "399  벤자민 존스턴^애런 존스^크리스토퍼 크루거  20191129  \n",
       "\n",
       "[400 rows x 4 columns]"
      ]
     },
     "execution_count": 17,
     "metadata": {},
     "output_type": "execute_result"
    }
   ],
   "source": [
    "xls = pd.read_excel('./data/DL_book_info2.xlsx',index_col=None)\n",
    "xls"
   ]
  },
  {
   "cell_type": "code",
   "execution_count": null,
   "metadata": {},
   "outputs": [],
   "source": []
  }
 ],
 "metadata": {
  "kernelspec": {
   "display_name": "Python 3 (ipykernel)",
   "language": "python",
   "name": "python3"
  },
  "language_info": {
   "codemirror_mode": {
    "name": "ipython",
    "version": 3
   },
   "file_extension": ".py",
   "mimetype": "text/x-python",
   "name": "python",
   "nbconvert_exporter": "python",
   "pygments_lexer": "ipython3",
   "version": "3.10.9"
  }
 },
 "nbformat": 4,
 "nbformat_minor": 2
}
