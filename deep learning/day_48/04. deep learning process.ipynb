{
 "cells": [
  {
   "cell_type": "markdown",
   "id": "11ecd121",
   "metadata": {},
   "source": [
    "# 폐암 수술 환자의 생존율 예측"
   ]
  },
  {
   "cell_type": "markdown",
   "id": "503956cd",
   "metadata": {},
   "source": [
    "##### 1. 환경 준비"
   ]
  },
  {
   "cell_type": "code",
   "execution_count": 1,
   "id": "c0b0f88d",
   "metadata": {},
   "outputs": [],
   "source": [
    "# pip install tensorflow\n",
    "from tensorflow.keras.models import Sequential  # 텐서플로의 케라스 API에서 필요한 함수들을 불러옵니다.\n",
    "from tensorflow.keras.layers import Dense       # 데이터를 다루는 데 필요한 라이브러리를 불러옵니다.\n",
    "import numpy as np"
   ]
  },
  {
   "cell_type": "markdown",
   "id": "b659b9c9",
   "metadata": {},
   "source": [
    "##### 2. 데이터 준비"
   ]
  },
  {
   "cell_type": "code",
   "execution_count": 2,
   "id": "23e70986",
   "metadata": {},
   "outputs": [],
   "source": [
    "Data_set = np.loadtxt(\"../../../data/deeplearning-master/data/ThoraricSurgery3.csv\", delimiter=\",\")  # 수술 환자 데이터를 불러옵니다.\n",
    "# test\n",
    "X = Data_set[:,0:16]     # 환자의 진찰 기록을 X로 지정합니다.\n",
    "# target\n",
    "y = Data_set[:,16]   # 수술 후 사망/생존 여부를 y로 지정합니다."
   ]
  },
  {
   "cell_type": "markdown",
   "id": "dcfd3d62",
   "metadata": {},
   "source": [
    "##### 3. 구조 결정"
   ]
  },
  {
   "cell_type": "code",
   "execution_count": 3,
   "id": "32c63e6c",
   "metadata": {},
   "outputs": [],
   "source": [
    "model = Sequential()                                                  # 딥러닝 모델의 구조를 결정합니다.\n",
    "# input\n",
    "# x1~x15, 1층에 30개, h(x) = relu\n",
    "model.add(Dense(30, input_dim=16, activation='relu'))\n",
    "# output\n",
    "# 2층, 출력은 1개\n",
    "model.add(Dense(1, activation='sigmoid'))"
   ]
  },
  {
   "cell_type": "markdown",
   "id": "ddb50b3e",
   "metadata": {},
   "source": [
    "1. 인공신경망 모델을 만듬<br>\n",
    "**model = Sequential()**\n",
    "\n",
    "2. 멤버 함수 add()를 이용해 인공지능 계층 추가 <br>\n",
    "**model.add(Dense(30, input_dim=17, activation='relu'))**\n",
    "\n",
    "3. 만든 모델을 어떻게 학습할지 파라미터로 지정하고 컴파일 합니다.<br>\n",
    "**model.compile(loss='binary_crossentropy', optimizer='adam', metrics=['accuracy'])**\n",
    "\n",
    "4. 모델을 주어진 데이터로 학습<br>\n",
    "**model.fit**"
   ]
  },
  {
   "cell_type": "markdown",
   "id": "5f090d55",
   "metadata": {},
   "source": [
    "##### 4. 모델 실행"
   ]
  },
  {
   "cell_type": "code",
   "execution_count": 9,
   "id": "a805cd95",
   "metadata": {},
   "outputs": [
    {
     "name": "stdout",
     "output_type": "stream",
     "text": [
      "Epoch 1/5\n",
      "30/30 [==============================] - 1s 2ms/step - loss: 0.4097 - accuracy: 0.8511\n",
      "Epoch 2/5\n",
      "30/30 [==============================] - 0s 2ms/step - loss: 0.3966 - accuracy: 0.8511\n",
      "Epoch 3/5\n",
      "30/30 [==============================] - 0s 2ms/step - loss: 0.3954 - accuracy: 0.8532\n",
      "Epoch 4/5\n",
      "30/30 [==============================] - 0s 2ms/step - loss: 0.3943 - accuracy: 0.8489\n",
      "Epoch 5/5\n",
      "30/30 [==============================] - 0s 2ms/step - loss: 0.3975 - accuracy: 0.8489\n"
     ]
    }
   ],
   "source": [
    "model.compile(loss='binary_crossentropy', optimizer='adam', metrics=['accuracy'])  \n",
    "# 딥러닝 모델을 실행합니다.\n",
    "history=model.fit(X, y, epochs=5, batch_size=16)\n",
    "# epochs : 반복 횟수\n",
    "# batch_size : 몇 개의 샘플로 가중치를 생산할 것인지, 한 번에 학습할 데이터 건수"
   ]
  },
  {
   "cell_type": "code",
   "execution_count": null,
   "id": "ff8325b5",
   "metadata": {},
   "outputs": [],
   "source": []
  },
  {
   "cell_type": "code",
   "execution_count": null,
   "id": "bc3abe98",
   "metadata": {},
   "outputs": [],
   "source": []
  }
 ],
 "metadata": {
  "kernelspec": {
   "display_name": "Python 3 (ipykernel)",
   "language": "python",
   "name": "python3"
  },
  "language_info": {
   "codemirror_mode": {
    "name": "ipython",
    "version": 3
   },
   "file_extension": ".py",
   "mimetype": "text/x-python",
   "name": "python",
   "nbconvert_exporter": "python",
   "pygments_lexer": "ipython3",
   "version": "3.10.9"
  }
 },
 "nbformat": 4,
 "nbformat_minor": 5
}
