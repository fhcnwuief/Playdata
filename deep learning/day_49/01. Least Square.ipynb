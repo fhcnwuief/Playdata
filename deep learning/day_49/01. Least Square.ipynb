{
 "cells": [
  {
   "cell_type": "markdown",
   "id": "594f21f4",
   "metadata": {},
   "source": [
    "## 파이썬으로 확인하는 최소 제곱"
   ]
  },
  {
   "cell_type": "markdown",
   "id": "215b37bf",
   "metadata": {},
   "source": [
    "#### 1. 환경 준비"
   ]
  },
  {
   "cell_type": "code",
   "execution_count": 1,
   "id": "b56f8e5a",
   "metadata": {},
   "outputs": [],
   "source": [
    "import numpy as np"
   ]
  },
  {
   "cell_type": "markdown",
   "id": "f61e2bf9",
   "metadata": {},
   "source": [
    "#### 2. 데이터 준비"
   ]
  },
  {
   "cell_type": "code",
   "execution_count": 3,
   "id": "cc6aecec",
   "metadata": {},
   "outputs": [],
   "source": [
    "# 공부한 시간 x, 점수 y\n",
    "x = np.array([2,4,6,8])\n",
    "y = np.array([81,93,91,97])"
   ]
  },
  {
   "cell_type": "markdown",
   "id": "98c61850",
   "metadata": {},
   "source": [
    "[x와 y의 평균]"
   ]
  },
  {
   "cell_type": "code",
   "execution_count": 4,
   "id": "ae8142a8",
   "metadata": {},
   "outputs": [
    {
     "name": "stdout",
     "output_type": "stream",
     "text": [
      "x의 평균값: 5.0\n",
      "y의 평균값: 90.5\n"
     ]
    }
   ],
   "source": [
    "mx = np.mean(x)\n",
    "my = np.mean(y)\n",
    "print(\"x의 평균값:\", mx)\n",
    "print(\"y의 평균값:\", my)"
   ]
  },
  {
   "cell_type": "markdown",
   "id": "389225fd",
   "metadata": {},
   "source": [
    "[기울기 공식의 분모와 분자]"
   ]
  },
  {
   "cell_type": "code",
   "execution_count": 5,
   "id": "a93cf711",
   "metadata": {},
   "outputs": [
    {
     "name": "stdout",
     "output_type": "stream",
     "text": [
      "분모: 20.0\n",
      "분자: 46.0\n"
     ]
    }
   ],
   "source": [
    "# 기울기 공식의 분모 부분\n",
    "divisor = sum([(i - mx)**2 for i in x])\n",
    "\n",
    "# 기울기 공식의 분자 부분\n",
    "def top(x, mx, y, my):\n",
    "    d = 0\n",
    "    for i in range(len(x)):\n",
    "        d += (x[i] - mx) * (y[i] - my)\n",
    "    return d\n",
    "dividend = top(x, mx, y, my)\n",
    "\n",
    "print(\"분모:\", divisor)\n",
    "print(\"분자:\", dividend)"
   ]
  },
  {
   "cell_type": "markdown",
   "id": "666c78bf",
   "metadata": {},
   "source": [
    "#### 3. 기울기와 y 절편 구하기"
   ]
  },
  {
   "cell_type": "code",
   "execution_count": 6,
   "id": "4e307102",
   "metadata": {},
   "outputs": [
    {
     "name": "stdout",
     "output_type": "stream",
     "text": [
      "기울기 a = 2.3\n",
      "y절편 b = 79.0\n"
     ]
    }
   ],
   "source": [
    "# 기울기 a를 구하는 공식\n",
    "a = dividend / divisor\n",
    "\n",
    "# y절편 b 를 구하는 공식\n",
    "b = my - (mx*a)\n",
    "\n",
    "print(\"기울기 a =\", a)\n",
    "print(\"y절편 b =\", b)"
   ]
  },
  {
   "cell_type": "code",
   "execution_count": null,
   "id": "e58f0702",
   "metadata": {},
   "outputs": [],
   "source": []
  }
 ],
 "metadata": {
  "kernelspec": {
   "display_name": "Python 3 (ipykernel)",
   "language": "python",
   "name": "python3"
  },
  "language_info": {
   "codemirror_mode": {
    "name": "ipython",
    "version": 3
   },
   "file_extension": ".py",
   "mimetype": "text/x-python",
   "name": "python",
   "nbconvert_exporter": "python",
   "pygments_lexer": "ipython3",
   "version": "3.10.9"
  }
 },
 "nbformat": 4,
 "nbformat_minor": 5
}
