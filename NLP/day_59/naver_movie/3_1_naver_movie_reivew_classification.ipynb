{
 "cells": [
  {
   "cell_type": "markdown",
   "metadata": {
    "id": "Q8keQOCGZG2p"
   },
   "source": [
    "# 03. 네이버 영화평 감성 분류\n",
    "\n",
    "- 한글 형태소 분석기 Okt 사용 전처리  \n",
    "\n",
    "- Keras Tokenizer, pad_sequences 함수 사용"
   ]
  },
  {
   "cell_type": "code",
   "execution_count": 1,
   "metadata": {
    "colab": {
     "base_uri": "https://localhost:8080/"
    },
    "id": "thLM4zKvZuKd",
    "outputId": "5072e9c6-4c4c-43f9-e1cb-f7d9b5247d2c"
   },
   "outputs": [],
   "source": [
    "!pip install -q KoNLPy"
   ]
  },
  {
   "cell_type": "code",
   "execution_count": 1,
   "metadata": {
    "id": "shkZRINiZG2q",
    "outputId": "cd045143-5af0-4876-bf04-d5b740db963f"
   },
   "outputs": [],
   "source": [
    "import numpy as np\n",
    "import pandas as pd\n",
    "import re\n",
    "import time\n",
    "import matplotlib.pyplot as plt\n",
    "\n",
    "from konlpy.tag import Okt\n",
    "import tensorflow as tf\n",
    "from tensorflow.keras.preprocessing.text import Tokenizer\n",
    "from tensorflow.keras.preprocessing.sequence import pad_sequences\n",
    "\n",
    "from tensorflow.keras.models import Sequential\n",
    "from tensorflow.keras.layers import Embedding, Bidirectional, Dense, LSTM"
   ]
  },
  {
   "cell_type": "code",
   "execution_count": 2,
   "metadata": {
    "id": "PBIaLV_xZG2u"
   },
   "outputs": [],
   "source": [
    "# DATA_TRAIN_PATH = tf.keras.utils.get_file(\"ratings_train.txt\",\n",
    "#                         \"https://github.com/SunaPark-deve/open-source/blob/main/ratings_train.txt\")\n",
    "# DATA_TEST_PATH = tf.keras.utils.get_file(\"ratings_test.txt\",\n",
    "#                         \"https://github.com/SunaPark-deve/open-source/blob/main/ratings_test.txt\")"
   ]
  },
  {
   "cell_type": "code",
   "execution_count": 3,
   "metadata": {
    "colab": {
     "base_uri": "https://localhost:8080/",
     "height": 225
    },
    "id": "O2411HrHZG2y",
    "outputId": "18bad979-4fa3-4d86-f3f7-f583ca20c0c2"
   },
   "outputs": [
    {
     "name": "stdout",
     "output_type": "stream",
     "text": [
      "(150000, 3)\n"
     ]
    },
    {
     "data": {
      "text/html": [
       "<div>\n",
       "<style scoped>\n",
       "    .dataframe tbody tr th:only-of-type {\n",
       "        vertical-align: middle;\n",
       "    }\n",
       "\n",
       "    .dataframe tbody tr th {\n",
       "        vertical-align: top;\n",
       "    }\n",
       "\n",
       "    .dataframe thead th {\n",
       "        text-align: right;\n",
       "    }\n",
       "</style>\n",
       "<table border=\"1\" class=\"dataframe\">\n",
       "  <thead>\n",
       "    <tr style=\"text-align: right;\">\n",
       "      <th></th>\n",
       "      <th>id</th>\n",
       "      <th>document</th>\n",
       "      <th>label</th>\n",
       "    </tr>\n",
       "  </thead>\n",
       "  <tbody>\n",
       "    <tr>\n",
       "      <th>0</th>\n",
       "      <td>9976970</td>\n",
       "      <td>아 더빙.. 진짜 짜증나네요 목소리</td>\n",
       "      <td>0</td>\n",
       "    </tr>\n",
       "    <tr>\n",
       "      <th>1</th>\n",
       "      <td>3819312</td>\n",
       "      <td>흠...포스터보고 초딩영화줄....오버연기조차 가볍지 않구나</td>\n",
       "      <td>1</td>\n",
       "    </tr>\n",
       "    <tr>\n",
       "      <th>2</th>\n",
       "      <td>10265843</td>\n",
       "      <td>너무재밓었다그래서보는것을추천한다</td>\n",
       "      <td>0</td>\n",
       "    </tr>\n",
       "    <tr>\n",
       "      <th>3</th>\n",
       "      <td>9045019</td>\n",
       "      <td>교도소 이야기구먼 ..솔직히 재미는 없다..평점 조정</td>\n",
       "      <td>0</td>\n",
       "    </tr>\n",
       "    <tr>\n",
       "      <th>4</th>\n",
       "      <td>6483659</td>\n",
       "      <td>사이몬페그의 익살스런 연기가 돋보였던 영화!스파이더맨에서 늙어보이기만 했던 커스틴 ...</td>\n",
       "      <td>1</td>\n",
       "    </tr>\n",
       "  </tbody>\n",
       "</table>\n",
       "</div>"
      ],
      "text/plain": [
       "         id                                           document  label\n",
       "0   9976970                                아 더빙.. 진짜 짜증나네요 목소리      0\n",
       "1   3819312                  흠...포스터보고 초딩영화줄....오버연기조차 가볍지 않구나      1\n",
       "2  10265843                                  너무재밓었다그래서보는것을추천한다      0\n",
       "3   9045019                      교도소 이야기구먼 ..솔직히 재미는 없다..평점 조정      0\n",
       "4   6483659  사이몬페그의 익살스런 연기가 돋보였던 영화!스파이더맨에서 늙어보이기만 했던 커스틴 ...      1"
      ]
     },
     "execution_count": 3,
     "metadata": {},
     "output_type": "execute_result"
    }
   ],
   "source": [
    "train_data = pd.read_csv(\"./ratings_train.txt\", delimiter='\\t')\n",
    "print(train_data.shape)\n",
    "train_data.head()"
   ]
  },
  {
   "cell_type": "code",
   "execution_count": 4,
   "metadata": {
    "colab": {
     "base_uri": "https://localhost:8080/",
     "height": 225
    },
    "id": "BCf6-4gZKRTK",
    "outputId": "ee21f537-d15f-447d-b138-958b9f8daeca"
   },
   "outputs": [
    {
     "name": "stdout",
     "output_type": "stream",
     "text": [
      "(50000, 3)\n"
     ]
    },
    {
     "data": {
      "text/html": [
       "<div>\n",
       "<style scoped>\n",
       "    .dataframe tbody tr th:only-of-type {\n",
       "        vertical-align: middle;\n",
       "    }\n",
       "\n",
       "    .dataframe tbody tr th {\n",
       "        vertical-align: top;\n",
       "    }\n",
       "\n",
       "    .dataframe thead th {\n",
       "        text-align: right;\n",
       "    }\n",
       "</style>\n",
       "<table border=\"1\" class=\"dataframe\">\n",
       "  <thead>\n",
       "    <tr style=\"text-align: right;\">\n",
       "      <th></th>\n",
       "      <th>id</th>\n",
       "      <th>document</th>\n",
       "      <th>label</th>\n",
       "    </tr>\n",
       "  </thead>\n",
       "  <tbody>\n",
       "    <tr>\n",
       "      <th>0</th>\n",
       "      <td>6270596</td>\n",
       "      <td>굳 ㅋ</td>\n",
       "      <td>1</td>\n",
       "    </tr>\n",
       "    <tr>\n",
       "      <th>1</th>\n",
       "      <td>9274899</td>\n",
       "      <td>GDNTOPCLASSINTHECLUB</td>\n",
       "      <td>0</td>\n",
       "    </tr>\n",
       "    <tr>\n",
       "      <th>2</th>\n",
       "      <td>8544678</td>\n",
       "      <td>뭐야 이 평점들은.... 나쁘진 않지만 10점 짜리는 더더욱 아니잖아</td>\n",
       "      <td>0</td>\n",
       "    </tr>\n",
       "    <tr>\n",
       "      <th>3</th>\n",
       "      <td>6825595</td>\n",
       "      <td>지루하지는 않은데 완전 막장임... 돈주고 보기에는....</td>\n",
       "      <td>0</td>\n",
       "    </tr>\n",
       "    <tr>\n",
       "      <th>4</th>\n",
       "      <td>6723715</td>\n",
       "      <td>3D만 아니었어도 별 다섯 개 줬을텐데.. 왜 3D로 나와서 제 심기를 불편하게 하죠??</td>\n",
       "      <td>0</td>\n",
       "    </tr>\n",
       "  </tbody>\n",
       "</table>\n",
       "</div>"
      ],
      "text/plain": [
       "        id                                           document  label\n",
       "0  6270596                                                굳 ㅋ      1\n",
       "1  9274899                               GDNTOPCLASSINTHECLUB      0\n",
       "2  8544678             뭐야 이 평점들은.... 나쁘진 않지만 10점 짜리는 더더욱 아니잖아      0\n",
       "3  6825595                   지루하지는 않은데 완전 막장임... 돈주고 보기에는....      0\n",
       "4  6723715  3D만 아니었어도 별 다섯 개 줬을텐데.. 왜 3D로 나와서 제 심기를 불편하게 하죠??      0"
      ]
     },
     "execution_count": 4,
     "metadata": {},
     "output_type": "execute_result"
    }
   ],
   "source": [
    "test_data = pd.read_csv(\"./ratings_test.txt\", delimiter='\\t')\n",
    "print(test_data.shape)\n",
    "test_data.head()"
   ]
  },
  {
   "cell_type": "markdown",
   "metadata": {
    "id": "HEBq5p1xKRTL"
   },
   "source": [
    "### 훈련 시간을 감안하여 data size 축소"
   ]
  },
  {
   "cell_type": "code",
   "execution_count": 5,
   "metadata": {
    "colab": {
     "base_uri": "https://localhost:8080/"
    },
    "id": "DKKV8dYfKRTL",
    "outputId": "f241f3b9-cc93-43f0-d6a3-df8366c65dda"
   },
   "outputs": [
    {
     "name": "stdout",
     "output_type": "stream",
     "text": [
      "(50000, 3)\n",
      "(5000, 3)\n"
     ]
    }
   ],
   "source": [
    "train_data = train_data.sample(n=50000, random_state=1)\n",
    "test_data = test_data.sample(n=5000, random_state=1)\n",
    "\n",
    "print(train_data.shape)\n",
    "print(test_data.shape)"
   ]
  },
  {
   "cell_type": "markdown",
   "metadata": {
    "id": "k9Unf2JKZG21"
   },
   "source": [
    "**null value 제거**"
   ]
  },
  {
   "cell_type": "code",
   "execution_count": 6,
   "metadata": {
    "id": "tfaIt9P_ZG25"
   },
   "outputs": [],
   "source": [
    "train_data.dropna(inplace=True)\n",
    "\n",
    "test_data.dropna(inplace=True)"
   ]
  },
  {
   "cell_type": "code",
   "execution_count": 7,
   "metadata": {
    "colab": {
     "base_uri": "https://localhost:8080/"
    },
    "id": "nZPllOWSZG2_",
    "outputId": "3abf971c-817e-42c9-9444-d765df68d35d"
   },
   "outputs": [
    {
     "data": {
      "text/plain": [
       "(id          0\n",
       " document    0\n",
       " label       0\n",
       " dtype: int64,\n",
       " id          0\n",
       " document    0\n",
       " label       0\n",
       " dtype: int64)"
      ]
     },
     "execution_count": 7,
     "metadata": {},
     "output_type": "execute_result"
    }
   ],
   "source": [
    "train_data.isnull().sum(), test_data.isnull().sum()"
   ]
  },
  {
   "cell_type": "markdown",
   "metadata": {
    "id": "-yBDcodKM-fb"
   },
   "source": [
    "### okt.morphs()\n",
    "\n",
    "- 텍스트를 형태소 단위로 나눈다. 옵션으로는 norm과 stem이 있다\n",
    "- stem은 각 단어에서 어간을 추출하는 기능"
   ]
  },
  {
   "cell_type": "code",
   "execution_count": 8,
   "metadata": {
    "colab": {
     "base_uri": "https://localhost:8080/"
    },
    "id": "UtQjEgdcNAB2",
    "outputId": "35b151f0-a130-4adc-f058-a8ed76b67bb1"
   },
   "outputs": [
    {
     "data": {
      "text/plain": [
       "['아버지', '가방', '에', '들어가다']"
      ]
     },
     "execution_count": 8,
     "metadata": {},
     "output_type": "execute_result"
    }
   ],
   "source": [
    "okt = Okt()\n",
    "test = \"아버지가방에들어가신다\"\n",
    "okt.morphs(test, stem=True)"
   ]
  },
  {
   "cell_type": "markdown",
   "metadata": {
    "id": "Y-3baFyeZG3H"
   },
   "source": [
    "## Text Data 전처리\n",
    "\n",
    "**한글 문자가 아닌 것 모두 제거**"
   ]
  },
  {
   "cell_type": "code",
   "execution_count": 9,
   "metadata": {
    "id": "HpwrCqOGZG3H"
   },
   "outputs": [],
   "source": [
    "def preprocessing(sentence, remove_stopwords=True):\n",
    "    # 불용어 제거\n",
    "    #stop_words = set(['에', '은', '는', '이', '가', '그리고', '것', '들', '수', '등', '로', '을', '를', '만', '도', '아', '의', '그', '다'])\n",
    "    stop_words = []\n",
    "\n",
    "    sentence = re.sub('\\\\\\\\n', ' ', sentence)              # 개행문자 제거\n",
    "    sentence = re.sub('[^가-힣ㄱ-ㅎㅏ-ㅣ ]', '', sentence)  #한글외에 모두 제거\n",
    "    sentence = okt.morphs(sentence, stem=True)\n",
    "    if remove_stopwords:\n",
    "        sentence = [token for token in sentence if not token in stop_words]\n",
    "    return sentence"
   ]
  },
  {
   "cell_type": "code",
   "execution_count": 10,
   "metadata": {
    "colab": {
     "base_uri": "https://localhost:8080/"
    },
    "id": "Qcc0WVspZG3K",
    "outputId": "d7af883e-bc29-4332-a429-cd43372a0036"
   },
   "outputs": [
    {
     "name": "stdout",
     "output_type": "stream",
     "text": [
      "Train processed = 0\n",
      "Train processed = 10000\n",
      "Train processed = 20000\n",
      "Train processed = 30000\n",
      "Train processed = 40000\n",
      "Test processed = 0\n",
      "Test processed = 1000\n",
      "Test processed = 2000\n",
      "Test processed = 3000\n",
      "Test processed = 4000\n",
      "107.71691608428955\n",
      "CPU times: total: 1min 22s\n",
      "Wall time: 1min 47s\n"
     ]
    }
   ],
   "source": [
    "%%time\n",
    "train_sentences = []\n",
    "train_labels = []\n",
    "test_sentences = []\n",
    "test_labels = []\n",
    "\n",
    "start = time.time()\n",
    "\n",
    "for i, (sent, label) in enumerate(zip(train_data['document'], train_data['label'])):\n",
    "    if i % 10000 == 0:\n",
    "        print(f\"Train processed = {i}\")\n",
    "    sent = preprocessing(sent)\n",
    "    if len(sent) > 0:\n",
    "        train_sentences.append(sent)\n",
    "        train_labels.append(label)\n",
    "\n",
    "for i, (sent, label) in enumerate(zip(test_data['document'], test_data['label'])):\n",
    "    if i % 1000 == 0:\n",
    "        print(f\"Test processed = {i}\")\n",
    "    sent = preprocessing(sent)\n",
    "    if len(sent) > 0:\n",
    "        test_sentences.append(sent)\n",
    "        test_labels.append(label)\n",
    "\n",
    "print(time.time() - start)"
   ]
  },
  {
   "cell_type": "markdown",
   "metadata": {
    "id": "lV62dOYhRFAI"
   },
   "source": [
    "## train_labels, test_labels  list를 numpy array 로 변환"
   ]
  },
  {
   "cell_type": "code",
   "execution_count": 11,
   "metadata": {
    "colab": {
     "base_uri": "https://localhost:8080/"
    },
    "id": "9HfcHgtSRCNX",
    "outputId": "549a7398-bcd3-4f8f-9e72-1d1eae02963b"
   },
   "outputs": [
    {
     "name": "stdout",
     "output_type": "stream",
     "text": [
      "(49571,)\n",
      "(4951,)\n"
     ]
    }
   ],
   "source": [
    "train_labels = np.array(train_labels)\n",
    "test_labels = np.array(test_labels)\n",
    "\n",
    "print(train_labels.shape)\n",
    "print(test_labels.shape)"
   ]
  },
  {
   "cell_type": "markdown",
   "metadata": {
    "id": "cYuPSbBrRbpn"
   },
   "source": [
    "## train_sentences, test_sentences text 를 sequence 로 변환"
   ]
  },
  {
   "cell_type": "code",
   "execution_count": 12,
   "metadata": {
    "colab": {
     "base_uri": "https://localhost:8080/"
    },
    "id": "GNXrKsQVZG3Q",
    "outputId": "1820a4f4-9b4c-4022-fe25-5238f0b05162"
   },
   "outputs": [
    {
     "name": "stdout",
     "output_type": "stream",
     "text": [
      "[90, 1370, 13, 1554, 80, 520, 8870, 14637, 29, 250, 5, 3884, 16, 430, 62, 210, 30, 1612, 14, 744, 22, 229, 6, 1123, 13, 31, 43, 12, 149, 2547, 5, 741, 12, 1554, 14638, 6007, 8871, 8872, 8, 31]\n",
      "[1683, 7, 460, 1491, 106, 346, 37, 2485, 344, 760, 206, 650, 96, 270]\n"
     ]
    }
   ],
   "source": [
    "VOCAB_SIZE = 20000\n",
    "\n",
    "tokenizer = Tokenizer(num_words=VOCAB_SIZE, oov_token=\"<OOV>\")\n",
    "tokenizer.fit_on_texts(train_sentences)\n",
    "\n",
    "train_sequences = tokenizer.texts_to_sequences(train_sentences)\n",
    "test_sequences = tokenizer.texts_to_sequences(test_sentences)\n",
    "\n",
    "print(train_sequences[0])\n",
    "print(test_sequences[0])"
   ]
  },
  {
   "cell_type": "code",
   "execution_count": 13,
   "metadata": {
    "colab": {
     "base_uri": "https://localhost:8080/",
     "height": 265
    },
    "id": "j6ZOZ5-rOXZY",
    "outputId": "15d193dc-ea08-4a8d-efe5-42af71b632f7"
   },
   "outputs": [
    {
     "data": {
      "image/png": "[encoded data removed]",
      "text/plain": [
       "<Figure size 640x480 with 1 Axes>"
      ]
     },
     "metadata": {},
     "output_type": "display_data"
    }
   ],
   "source": [
    "plt.hist([len(s) for s in train_sequences] + [len(s) for s in test_sequences], bins=30);"
   ]
  },
  {
   "cell_type": "code",
   "execution_count": 14,
   "metadata": {
    "colab": {
     "base_uri": "https://localhost:8080/"
    },
    "id": "owqiPD1uZG3Z",
    "outputId": "dda61f1f-04bc-470b-faa4-6ca18ed47795"
   },
   "outputs": [
    {
     "name": "stdout",
     "output_type": "stream",
     "text": [
      "(49571, 15)\n",
      "(4951, 15)\n",
      "[   90  1370    13  1554    80   520  8870 14637    29   250     5  3884\n",
      "    16   430    62]\n",
      "[1683    7  460 1491  106  346   37 2485  344  760  206  650   96  270\n",
      "    0]\n"
     ]
    }
   ],
   "source": [
    "max_length = 15\n",
    "\n",
    "train_padded = pad_sequences(train_sequences, maxlen=max_length, padding='post', truncating='post')\n",
    "\n",
    "test_padded = pad_sequences(test_sequences, maxlen=max_length, padding='post', truncating='post')\n",
    "\n",
    "print(train_padded.shape)\n",
    "print(test_padded.shape)\n",
    "print(train_padded[0])\n",
    "print(test_padded[0])"
   ]
  },
  {
   "cell_type": "markdown",
   "metadata": {
    "id": "_XW692THZG3f"
   },
   "source": [
    "### sequence 를 다시 문장으로 역변환"
   ]
  },
  {
   "cell_type": "code",
   "execution_count": 15,
   "metadata": {
    "colab": {
     "base_uri": "https://localhost:8080/"
    },
    "id": "bP6ea-ZYZG3f",
    "outputId": "266306dd-b5bb-48a2-c2c3-14f014f8ccf5"
   },
   "outputs": [
    {
     "name": "stdout",
     "output_type": "stream",
     "text": [
      "우리나라 용가리 가 배다 더 자다 만들다 이렇다 류 영화 도 개봉 을 하나 보다\n",
      "\n",
      "['우리나라', '용가리', '가', '배다', '더', '자다', '만들다', '이렇다', '류', '영화', '도', '개봉', '을', '하나', '보다']\n"
     ]
    }
   ],
   "source": [
    "reverse_word_index = dict([(v, k) for (k, v) in tokenizer.word_index.items()])\n",
    "\n",
    "def decode_sentence(sequence):\n",
    "    return ' '.join([reverse_word_index.get(i, '?') for i in sequence])\n",
    "\n",
    "print(decode_sentence(train_padded[4]))\n",
    "print()\n",
    "print(train_sentences[4])"
   ]
  },
  {
   "cell_type": "code",
   "execution_count": 16,
   "metadata": {
    "colab": {
     "base_uri": "https://localhost:8080/"
    },
    "id": "4gbHh9M9ZG3h",
    "outputId": "1d3ce396-a949-42a2-a1bd-692b3a98ee4f"
   },
   "outputs": [
    {
     "name": "stdout",
     "output_type": "stream",
     "text": [
      "Model: \"sequential\"\n",
      "_________________________________________________________________\n",
      " Layer (type)                Output Shape              Param #   \n",
      "=================================================================\n",
      " embedding (Embedding)       (None, None, 64)          1280064   \n",
      "                                                                 \n",
      " bidirectional (Bidirection  (None, 128)               66048     \n",
      " al)                                                             \n",
      "                                                                 \n",
      " dense (Dense)               (None, 32)                4128      \n",
      "                                                                 \n",
      " dense_1 (Dense)             (None, 1)                 33        \n",
      "                                                                 \n",
      "=================================================================\n",
      "Total params: 1350273 (5.15 MB)\n",
      "Trainable params: 1350273 (5.15 MB)\n",
      "Non-trainable params: 0 (0.00 Byte)\n",
      "_________________________________________________________________\n"
     ]
    }
   ],
   "source": [
    "model = Sequential([\n",
    "    Embedding(VOCAB_SIZE+1, 64),\n",
    "    Bidirectional(LSTM(64)),\n",
    "    Dense(32, activation='relu'),\n",
    "    Dense(1, activation='sigmoid')\n",
    "])\n",
    "\n",
    "model.compile(loss='binary_crossentropy', optimizer='adam', metrics=['accuracy'])\n",
    "model.summary()"
   ]
  },
  {
   "cell_type": "code",
   "execution_count": 17,
   "metadata": {
    "colab": {
     "base_uri": "https://localhost:8080/"
    },
    "id": "JrmVSpkrZG3j",
    "outputId": "2c53488c-a479-48db-9dc4-5b5cc465845e"
   },
   "outputs": [
    {
     "name": "stdout",
     "output_type": "stream",
     "text": [
      "Epoch 1/30\n",
      "388/388 [==============================] - 14s 22ms/step - loss: 0.4492 - accuracy: 0.7816 - val_loss: 0.4026 - val_accuracy: 0.8194\n",
      "Epoch 2/30\n",
      "388/388 [==============================] - 8s 20ms/step - loss: 0.3287 - accuracy: 0.8600 - val_loss: 0.4088 - val_accuracy: 0.8184\n",
      "Epoch 3/30\n",
      "388/388 [==============================] - 7s 19ms/step - loss: 0.2683 - accuracy: 0.8881 - val_loss: 0.4270 - val_accuracy: 0.8196\n",
      "Epoch 4/30\n",
      "388/388 [==============================] - 7s 19ms/step - loss: 0.2208 - accuracy: 0.9071 - val_loss: 0.4911 - val_accuracy: 0.8099\n",
      "Epoch 5/30\n",
      "388/388 [==============================] - 7s 19ms/step - loss: 0.1842 - accuracy: 0.9232 - val_loss: 0.5379 - val_accuracy: 0.8138\n",
      "Epoch 6/30\n",
      "388/388 [==============================] - 8s 20ms/step - loss: 0.1556 - accuracy: 0.9357 - val_loss: 0.6129 - val_accuracy: 0.8097\n",
      "Epoch 7/30\n",
      "388/388 [==============================] - 9s 22ms/step - loss: 0.1319 - accuracy: 0.9459 - val_loss: 0.7184 - val_accuracy: 0.8083\n",
      "Epoch 8/30\n",
      "388/388 [==============================] - 8s 20ms/step - loss: 0.1128 - accuracy: 0.9544 - val_loss: 0.8280 - val_accuracy: 0.8029\n",
      "Epoch 9/30\n",
      "388/388 [==============================] - 7s 19ms/step - loss: 0.1007 - accuracy: 0.9604 - val_loss: 0.8580 - val_accuracy: 0.8004\n",
      "Epoch 10/30\n",
      "388/388 [==============================] - 8s 20ms/step - loss: 0.0858 - accuracy: 0.9667 - val_loss: 0.8963 - val_accuracy: 0.7968\n",
      "Epoch 11/30\n",
      "388/388 [==============================] - 8s 20ms/step - loss: 0.0753 - accuracy: 0.9710 - val_loss: 0.9392 - val_accuracy: 0.7891\n",
      "Epoch 12/30\n",
      "388/388 [==============================] - 8s 20ms/step - loss: 0.0653 - accuracy: 0.9749 - val_loss: 1.0750 - val_accuracy: 0.8002\n",
      "Epoch 13/30\n",
      "388/388 [==============================] - 8s 20ms/step - loss: 0.0619 - accuracy: 0.9764 - val_loss: 1.1085 - val_accuracy: 0.7964\n",
      "Epoch 14/30\n",
      "388/388 [==============================] - 8s 19ms/step - loss: 0.0571 - accuracy: 0.9779 - val_loss: 1.1764 - val_accuracy: 0.7940\n",
      "Epoch 15/30\n",
      "388/388 [==============================] - 8s 20ms/step - loss: 0.0516 - accuracy: 0.9802 - val_loss: 1.2283 - val_accuracy: 0.7966\n",
      "Epoch 16/30\n",
      "388/388 [==============================] - 8s 20ms/step - loss: 0.0481 - accuracy: 0.9813 - val_loss: 1.3035 - val_accuracy: 0.7958\n",
      "Epoch 17/30\n",
      "388/388 [==============================] - 8s 20ms/step - loss: 0.0449 - accuracy: 0.9818 - val_loss: 1.1561 - val_accuracy: 0.7885\n",
      "Epoch 18/30\n",
      "388/388 [==============================] - 8s 20ms/step - loss: 0.0435 - accuracy: 0.9829 - val_loss: 1.3835 - val_accuracy: 0.7811\n",
      "Epoch 19/30\n",
      "388/388 [==============================] - 8s 20ms/step - loss: 0.0411 - accuracy: 0.9840 - val_loss: 1.3732 - val_accuracy: 0.7920\n",
      "Epoch 20/30\n",
      "388/388 [==============================] - 8s 21ms/step - loss: 0.0371 - accuracy: 0.9854 - val_loss: 1.4550 - val_accuracy: 0.7952\n",
      "Epoch 21/30\n",
      "388/388 [==============================] - 9s 23ms/step - loss: 0.0335 - accuracy: 0.9862 - val_loss: 1.5728 - val_accuracy: 0.7877\n",
      "Epoch 22/30\n",
      "388/388 [==============================] - 9s 24ms/step - loss: 0.0337 - accuracy: 0.9865 - val_loss: 1.6105 - val_accuracy: 0.7903\n",
      "Epoch 23/30\n",
      "388/388 [==============================] - 10s 26ms/step - loss: 0.0320 - accuracy: 0.9869 - val_loss: 1.5646 - val_accuracy: 0.7849\n",
      "Epoch 24/30\n",
      "388/388 [==============================] - 9s 24ms/step - loss: 0.0286 - accuracy: 0.9883 - val_loss: 1.7500 - val_accuracy: 0.7934\n",
      "Epoch 25/30\n",
      "388/388 [==============================] - 9s 24ms/step - loss: 0.0280 - accuracy: 0.9888 - val_loss: 1.7702 - val_accuracy: 0.7928\n",
      "Epoch 26/30\n",
      "388/388 [==============================] - 9s 23ms/step - loss: 0.0273 - accuracy: 0.9886 - val_loss: 1.7276 - val_accuracy: 0.7954\n",
      "Epoch 27/30\n",
      "388/388 [==============================] - 9s 23ms/step - loss: 0.0262 - accuracy: 0.9891 - val_loss: 1.7225 - val_accuracy: 0.7905\n",
      "Epoch 28/30\n",
      "388/388 [==============================] - 9s 23ms/step - loss: 0.0247 - accuracy: 0.9899 - val_loss: 1.7987 - val_accuracy: 0.7817\n",
      "Epoch 29/30\n",
      "388/388 [==============================] - 9s 23ms/step - loss: 0.0238 - accuracy: 0.9902 - val_loss: 1.8060 - val_accuracy: 0.7863\n",
      "Epoch 30/30\n",
      "388/388 [==============================] - 9s 24ms/step - loss: 0.0211 - accuracy: 0.9911 - val_loss: 1.8508 - val_accuracy: 0.7855\n"
     ]
    }
   ],
   "source": [
    "num_epochs = 30\n",
    "history = model.fit(train_padded, train_labels, epochs=num_epochs, batch_size=128,\n",
    "                    validation_data=(test_padded, test_labels), verbose=1)"
   ]
  },
  {
   "cell_type": "code",
   "execution_count": 18,
   "metadata": {
    "colab": {
     "base_uri": "https://localhost:8080/",
     "height": 281
    },
    "id": "xcczXSVmZG3l",
    "outputId": "cc1ca7b6-1530-4788-d0c6-ff40da847616"
   },
   "outputs": [
    {
     "data": {
      "image/png": "[encoded data removed]",
      "text/plain": [
       "<Figure size 1200x400 with 2 Axes>"
      ]
     },
     "metadata": {},
     "output_type": "display_data"
    }
   ],
   "source": [
    "fig, (ax1, ax2) = plt.subplots(1, 2, figsize=(12, 4))\n",
    "\n",
    "ax1.plot(history.history['accuracy'])\n",
    "ax1.plot(history.history['val_accuracy'])\n",
    "ax1.set_xlabel('Epochs')\n",
    "ax1.set_ylabel('accuracy')\n",
    "ax1.legend(['accuarcy', 'val_accuracy'])\n",
    "\n",
    "ax2.plot(history.history['loss'])\n",
    "ax2.plot(history.history['val_loss'])\n",
    "ax2.set_xlabel('Epochs')\n",
    "ax2.set_ylabel('loss')\n",
    "ax2.legend(['loss', 'val_loss'])\n",
    "plt.show()"
   ]
  },
  {
   "cell_type": "code",
   "execution_count": 19,
   "metadata": {
    "colab": {
     "base_uri": "https://localhost:8080/",
     "height": 206
    },
    "id": "LqdvlZqdWTfp",
    "outputId": "2062a6dc-39d0-45ca-aaf4-cd72f1a537b0"
   },
   "outputs": [
    {
     "data": {
      "text/html": [
       "<div>\n",
       "<style scoped>\n",
       "    .dataframe tbody tr th:only-of-type {\n",
       "        vertical-align: middle;\n",
       "    }\n",
       "\n",
       "    .dataframe tbody tr th {\n",
       "        vertical-align: top;\n",
       "    }\n",
       "\n",
       "    .dataframe thead th {\n",
       "        text-align: right;\n",
       "    }\n",
       "</style>\n",
       "<table border=\"1\" class=\"dataframe\">\n",
       "  <thead>\n",
       "    <tr style=\"text-align: right;\">\n",
       "      <th></th>\n",
       "      <th>id</th>\n",
       "      <th>document</th>\n",
       "      <th>label</th>\n",
       "    </tr>\n",
       "  </thead>\n",
       "  <tbody>\n",
       "    <tr>\n",
       "      <th>26247</th>\n",
       "      <td>5933705</td>\n",
       "      <td>크리스마스에 어울리는 시원한 액션. 긴장감과 박진감 넘치는 전개 엄청난 마지막부분</td>\n",
       "      <td>1</td>\n",
       "    </tr>\n",
       "    <tr>\n",
       "      <th>35067</th>\n",
       "      <td>5092284</td>\n",
       "      <td>또 봐도 재밌네요 ㅋ2편은 평점이거지네요;;</td>\n",
       "      <td>1</td>\n",
       "    </tr>\n",
       "    <tr>\n",
       "      <th>34590</th>\n",
       "      <td>4501201</td>\n",
       "      <td>완전유치뽕짝저질삼류영화..티비편이 훨씬낫다...</td>\n",
       "      <td>0</td>\n",
       "    </tr>\n",
       "    <tr>\n",
       "      <th>16668</th>\n",
       "      <td>8848074</td>\n",
       "      <td>이건 보는 영화가 아니다.</td>\n",
       "      <td>0</td>\n",
       "    </tr>\n",
       "    <tr>\n",
       "      <th>12196</th>\n",
       "      <td>178689</td>\n",
       "      <td>오랜만에 접한 수작...30대 중반 이상분들에게 추천!</td>\n",
       "      <td>1</td>\n",
       "    </tr>\n",
       "  </tbody>\n",
       "</table>\n",
       "</div>"
      ],
      "text/plain": [
       "            id                                       document  label\n",
       "26247  5933705  크리스마스에 어울리는 시원한 액션. 긴장감과 박진감 넘치는 전개 엄청난 마지막부분      1\n",
       "35067  5092284                       또 봐도 재밌네요 ㅋ2편은 평점이거지네요;;      1\n",
       "34590  4501201                     완전유치뽕짝저질삼류영화..티비편이 훨씬낫다...      0\n",
       "16668  8848074                                 이건 보는 영화가 아니다.      0\n",
       "12196   178689                 오랜만에 접한 수작...30대 중반 이상분들에게 추천!      1"
      ]
     },
     "execution_count": 19,
     "metadata": {},
     "output_type": "execute_result"
    }
   ],
   "source": [
    "test_data.head()"
   ]
  },
  {
   "cell_type": "code",
   "execution_count": 20,
   "metadata": {
    "colab": {
     "base_uri": "https://localhost:8080/"
    },
    "id": "50BvfYqWZG3n",
    "outputId": "f59aa820-f466-4386-9d3b-eba76758f78b"
   },
   "outputs": [
    {
     "data": {
      "text/plain": [
       "array([[ 2,  1, 21,  1, 49,  1,  0,  0,  0,  0,  0,  0,  0,  0,  0]])"
      ]
     },
     "execution_count": 20,
     "metadata": {},
     "output_type": "execute_result"
    }
   ],
   "source": [
    "sample_text = ['이 영화는 정말 짜증나서 못 보겠다']\n",
    "# sample_text = ['오랜만에 접한 수작']\n",
    "sample_seq = tokenizer.texts_to_sequences(sample_text)\n",
    "sample_padded = pad_sequences(sample_seq, maxlen=max_length, padding='post')\n",
    "sample_padded"
   ]
  },
  {
   "cell_type": "code",
   "execution_count": 21,
   "metadata": {
    "colab": {
     "base_uri": "https://localhost:8080/"
    },
    "id": "mUfmxNgfZG3p",
    "outputId": "635ad013-ded2-4b64-cb96-0e0151c1dc28"
   },
   "outputs": [
    {
     "name": "stdout",
     "output_type": "stream",
     "text": [
      "1/1 [==============================] - 1s 670ms/step\n"
     ]
    },
    {
     "data": {
      "text/plain": [
       "array([[0.04347671]], dtype=float32)"
      ]
     },
     "execution_count": 21,
     "metadata": {},
     "output_type": "execute_result"
    }
   ],
   "source": [
    "model.predict([sample_padded])"
   ]
  },
  {
   "cell_type": "code",
   "execution_count": 22,
   "metadata": {
    "colab": {
     "base_uri": "https://localhost:8080/"
    },
    "id": "rcTSIxn8KRTR",
    "outputId": "2bb64a98-7999-46e8-94de-322b447a22da"
   },
   "outputs": [
    {
     "name": "stdout",
     "output_type": "stream",
     "text": [
      "1/1 [==============================] - 0s 14ms/step\n"
     ]
    },
    {
     "data": {
      "text/plain": [
       "['negative']"
      ]
     },
     "execution_count": 22,
     "metadata": {},
     "output_type": "execute_result"
    }
   ],
   "source": [
    "['positive' if model.predict([sample_padded]) >= 0.5 else 'negative']"
   ]
  },
  {
   "cell_type": "code",
   "execution_count": 23,
   "metadata": {
    "colab": {
     "base_uri": "https://localhost:8080/"
    },
    "id": "TB4LBuVNZG3r",
    "outputId": "9c223d3c-47b6-4d56-c614-bdb6e81ee8b8"
   },
   "outputs": [
    {
     "data": {
      "text/plain": [
       "[<keras.src.layers.core.embedding.Embedding at 0x1deb6999350>,\n",
       " <keras.src.layers.rnn.bidirectional.Bidirectional at 0x1deb731fa90>,\n",
       " <keras.src.layers.core.dense.Dense at 0x1deb707d3d0>,\n",
       " <keras.src.layers.core.dense.Dense at 0x1deb707f810>]"
      ]
     },
     "execution_count": 23,
     "metadata": {},
     "output_type": "execute_result"
    }
   ],
   "source": [
    "model.layers"
   ]
  },
  {
   "cell_type": "markdown",
   "metadata": {
    "id": "SPbB4Vu5ZG3u"
   },
   "source": [
    "## Embedding Layer 시각화\n",
    "\n",
    "- Embedding projector https://projector.tensorflow.org/  를 이용하여 word embedding 시각화"
   ]
  },
  {
   "cell_type": "code",
   "execution_count": 24,
   "metadata": {
    "colab": {
     "base_uri": "https://localhost:8080/"
    },
    "id": "Hlzy6uMAZG3u",
    "outputId": "68b309f9-de1b-429c-bacb-3e51f0e4974d"
   },
   "outputs": [
    {
     "name": "stdout",
     "output_type": "stream",
     "text": [
      "(20001, 64)\n"
     ]
    }
   ],
   "source": [
    "e = model.layers[0]\n",
    "weights = e.get_weights()[0]\n",
    "print(weights.shape)"
   ]
  },
  {
   "cell_type": "markdown",
   "metadata": {
    "id": "Z6UmmFaKZG3x"
   },
   "source": [
    "### embedding layer 의 weight 를 disk 에 write. Embedding projector 사용을 위해 embedding vector file 과 단어가 들어 있는 meta data file 로 구분하여 upload."
   ]
  },
  {
   "cell_type": "code",
   "execution_count": 25,
   "metadata": {
    "id": "Kd2CXVpTZG3x"
   },
   "outputs": [],
   "source": [
    "out_v = open('vects.tsv', 'w', encoding='utf-8')\n",
    "out_m = open('meta.tsv', 'w', encoding='utf-8')\n",
    "\n",
    "for i in range(1, 1000):\n",
    "    word = tokenizer.index_word.get(i, '?')\n",
    "    embeddings = weights[i]\n",
    "    out_m.write(word + '\\n')\n",
    "    out_v.write('\\t'.join([str(x) for x in embeddings]) + '\\n')\n",
    "\n",
    "out_v.close()\n",
    "out_m.close()"
   ]
  },
  {
   "cell_type": "markdown",
   "metadata": {
    "id": "1bjh-IuVZG3z"
   },
   "source": [
    "## Embedding 결과 확인\n",
    "\n",
    "[Embedding Projector](https://projector.tensorflow.org) 에 접속하여 embedding 의 품질 확인\n",
    "\n",
    "Google Colab 의 경우 local PC 로 download 받아 Embedding Projector 에 upload"
   ]
  },
  {
   "cell_type": "code",
   "execution_count": null,
   "metadata": {
    "id": "EXYfTlWUgjBj"
   },
   "outputs": [],
   "source": []
  }
 ],
 "metadata": {
  "accelerator": "GPU",
  "colab": {
   "provenance": []
  },
  "kernelspec": {
   "display_name": "Python 3 (ipykernel)",
   "language": "python",
   "name": "python3"
  },
  "language_info": {
   "codemirror_mode": {
    "name": "ipython",
    "version": 3
   },
   "file_extension": ".py",
   "mimetype": "text/x-python",
   "name": "python",
   "nbconvert_exporter": "python",
   "pygments_lexer": "ipython3",
   "version": "3.11.3"
  }
 },
 "nbformat": 4,
 "nbformat_minor": 1
}
